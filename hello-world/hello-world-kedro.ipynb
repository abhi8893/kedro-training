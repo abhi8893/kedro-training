{
 "cells": [
  {
   "cell_type": "markdown",
   "id": "2b03523d",
   "metadata": {},
   "source": [
    "# Hello World Kedro!"
   ]
  },
  {
   "cell_type": "code",
   "execution_count": 1,
   "id": "4d01b724",
   "metadata": {},
   "outputs": [],
   "source": [
    "from kedro.pipeline import node"
   ]
  },
  {
   "cell_type": "markdown",
   "id": "93a509ea",
   "metadata": {},
   "source": [
    "## node decorator"
   ]
  },
  {
   "cell_type": "code",
   "execution_count": 2,
   "id": "ee6361fb",
   "metadata": {},
   "outputs": [],
   "source": [
    "def kedronode(inputs, outputs, *, \n",
    "              name=None, tags=None, confirms=None, namespace=None):\n",
    "    def make_node(func):\n",
    "        return node(func, inputs, outputs, name=name, \n",
    "                    tags=tags, confirms=confirms, namespace=namespace)\n",
    "    \n",
    "    return make_node"
   ]
  },
  {
   "cell_type": "markdown",
   "id": "b7e5b2f1",
   "metadata": {},
   "source": [
    "## first node"
   ]
  },
  {
   "cell_type": "code",
   "execution_count": 3,
   "id": "ea2852d9",
   "metadata": {},
   "outputs": [],
   "source": [
    "@kedronode(inputs=None, outputs=\"salutation\")\n",
    "def return_greeting():\n",
    "    return \"Hello\""
   ]
  },
  {
   "cell_type": "markdown",
   "id": "fef8a88b",
   "metadata": {},
   "source": [
    "## second node"
   ]
  },
  {
   "cell_type": "code",
   "execution_count": 4,
   "id": "7ee919d9",
   "metadata": {},
   "outputs": [],
   "source": [
    "@kedronode(inputs=None, outputs='name')\n",
    "def get_name():\n",
    "    return input('Enter your name: ')"
   ]
  },
  {
   "cell_type": "markdown",
   "id": "fbc3e33b",
   "metadata": {},
   "source": [
    "## third node"
   ]
  },
  {
   "cell_type": "code",
   "execution_count": 5,
   "id": "44debf8b",
   "metadata": {},
   "outputs": [],
   "source": [
    "@kedronode(inputs=['salutation', 'name'], outputs='greeting')\n",
    "def greet_name(greeting, name):\n",
    "    return f\"{greeting} {name}!\""
   ]
  },
  {
   "cell_type": "markdown",
   "id": "f64f3f2f",
   "metadata": {},
   "source": [
    "## pipeline"
   ]
  },
  {
   "cell_type": "code",
   "execution_count": 6,
   "id": "3e12b278",
   "metadata": {},
   "outputs": [],
   "source": [
    "from kedro.pipeline import Pipeline\n",
    "\n",
    "pipeline = Pipeline(nodes=[return_greeting, get_name, greet_name])"
   ]
  },
  {
   "cell_type": "markdown",
   "id": "f08114a9",
   "metadata": {},
   "source": [
    "## DataCatalog"
   ]
  },
  {
   "cell_type": "code",
   "execution_count": 7,
   "id": "7d24b8b9",
   "metadata": {},
   "outputs": [],
   "source": [
    "from kedro.io import DataCatalog, MemoryDataSet\n",
    "\n",
    "data_catalog = DataCatalog({\"salutation\": MemoryDataSet(), \"name\": MemoryDataSet()})"
   ]
  },
  {
   "cell_type": "markdown",
   "id": "1cb0e17e",
   "metadata": {},
   "source": [
    "## runner"
   ]
  },
  {
   "cell_type": "code",
   "execution_count": 8,
   "id": "3fe390a2",
   "metadata": {},
   "outputs": [],
   "source": [
    "from kedro.runner import SequentialRunner\n",
    "\n",
    "runner = SequentialRunner()"
   ]
  },
  {
   "cell_type": "markdown",
   "id": "4a1606f5",
   "metadata": {},
   "source": [
    "## Run the pipeline!\n",
    "\n",
    "1.  Kedro first executes `return_greeting_node`. This runs `return_greeting`, which takes no input but outputs the string “Hello”.\n",
    "\n",
    "2.  The output string is stored in the `MemoryDataSet` named `salutation`.\n",
    "\n",
    "3.  Kedro then executes the second node, `greet_it_node`. This loads the `salutation` dataset and injects it into the `greet_it` function.\n",
    "\n",
    "4.  The function joins the input salutation with `it` to form the output string “Hello {it}!”\n",
    "\n",
    "5.  The output of the pipeline is returned in a dictionary with key `full_greeting`."
   ]
  },
  {
   "cell_type": "code",
   "execution_count": 9,
   "id": "008cf4fb",
   "metadata": {},
   "outputs": [
    {
     "name": "stdout",
     "output_type": "stream",
     "text": [
      "Enter your name: Kedro\n"
     ]
    },
    {
     "data": {
      "text/plain": [
       "{'greeting': 'Hello Kedro!'}"
      ]
     },
     "execution_count": 9,
     "metadata": {},
     "output_type": "execute_result"
    }
   ],
   "source": [
    "runner.run(pipeline, data_catalog)"
   ]
  },
  {
   "cell_type": "code",
   "execution_count": null,
   "id": "1768db05",
   "metadata": {},
   "outputs": [],
   "source": []
  }
 ],
 "metadata": {
  "kernelspec": {
   "display_name": "venv",
   "language": "python",
   "name": "venv"
  },
  "language_info": {
   "codemirror_mode": {
    "name": "ipython",
    "version": 3
   },
   "file_extension": ".py",
   "mimetype": "text/x-python",
   "name": "python",
   "nbconvert_exporter": "python",
   "pygments_lexer": "ipython3",
   "version": "3.8.12"
  }
 },
 "nbformat": 4,
 "nbformat_minor": 5
}
